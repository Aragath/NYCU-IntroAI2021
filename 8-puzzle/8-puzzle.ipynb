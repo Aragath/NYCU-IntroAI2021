{
  "nbformat": 4,
  "nbformat_minor": 0,
  "metadata": {
    "colab": {
      "name": "「0000000_1.ipynb」的副本",
      "provenance": [],
      "collapsed_sections": []
    },
    "kernelspec": {
      "name": "python3",
      "display_name": "Python 3"
    }
  },
  "cells": [
    {
      "cell_type": "markdown",
      "metadata": {
        "id": "phl4Y2-kWRwN"
      },
      "source": [
        "# Artificial Intelligence - Assignment 1\n",
        "\n",
        "## 1. Description\n",
        "\n",
        "In this assignment, you are going to solve the 8-puzzle using any algorithm. The `EightPuzzle` class is written and provided by TAs, you don't need to implement the puzzle yourself, just import and use.\n",
        "\n",
        "## 2. How to use `EightPuzzle`\n",
        "\n",
        "```python\n",
        "from eight_puzzle import EightPuzzle # import\n",
        "\n",
        "puzzle = EightPuzzle()\n",
        "\n",
        "puzzle.init()     # initialize a solvable puzzle state\n",
        "puzzle.init(seed) # initialize a solvable puzzle state using a seed\n",
        "print(puzzle)     # show current puzzle state\n",
        "\n",
        "# move\n",
        "puzzle.move('up')\n",
        "puzzle.move('down')\n",
        "puzzle.move('left')\n",
        "puzzle.move('right')\n",
        "\n",
        "if puzzle.state == puzzle.FINAL_STATE:\n",
        "  print('You have solved the puzzle')\n",
        "\n",
        "# Useful: get the next state after you move in a direction,\n",
        "# this won't change the internal state of EightPuzzle.\n",
        "state_after_move_up = puzzle.get_state_after_move(current_state, 'up')\n",
        "\n",
        "```\n",
        "\n"
      ]
    },
    {
      "cell_type": "code",
      "metadata": {
        "id": "402LsZPhUmgl",
        "colab": {
          "base_uri": "https://localhost:8080/"
        },
        "outputId": "b4f05609-4339-4426-a7a0-f3de925d2cc2"
      },
      "source": [
        "# NOTE: PLEASE KEEP THIS CELL NOT MODIFIED!\n",
        "\n",
        "# download eight_puzzle.py (YOU SHOULD NOT MODIFY eight_puzzle.py)\n",
        "!wget https://lab.djosix.com/eight_puzzle.py -qO eight_puzzle.py\n",
        "!sha1sum eight_puzzle.py\n",
        "\n",
        "from eight_puzzle import EightPuzzle, test"
      ],
      "execution_count": 66,
      "outputs": [
        {
          "output_type": "stream",
          "text": [
            "cea1d62ff26ac1db4b66aea0ac935b8daa0d2422  eight_puzzle.py\n"
          ],
          "name": "stdout"
        }
      ]
    },
    {
      "cell_type": "markdown",
      "metadata": {
        "id": "yCDHjleOb9Fd"
      },
      "source": [
        "## 3. Implement a search algorithm to solve 8-puzzle"
      ]
    },
    {
      "cell_type": "code",
      "metadata": {
        "id": "_OuRn868WNW0"
      },
      "source": [
        "import copy\n",
        "class Node:\n",
        "    def __init__(self, puzzle, parent_state, prev_direction):\n",
        "        self.puzzle = puzzle #3x3 2d\n",
        "        self.current_state = puzzle.state #1d\n",
        "        self.parent_state = parent_state\n",
        "        self.goal_state = (1, 2, 3, 4, 5, 6, 7, 8, 0)\n",
        "        \n",
        "        self.f_score = 0\n",
        "        self.g_score = 0\n",
        "        self.h_score = 0\n",
        "        \n",
        "        self.prev_direction = prev_direction\n",
        "        self.direction_list = ['up', 'down', 'left', 'right']\n",
        "        \n",
        "    def h(self):\n",
        "        h_score = 0\n",
        "        for i in range(0, 8):\n",
        "            cur_row = self.current_state[i]//3\n",
        "            cur_col = self.current_state[i]%3\n",
        "            goal_row = self.goal_state[i]//3\n",
        "            goal_col = self.goal_state[i]%3\n",
        "            h_score += abs(cur_row - goal_row) + abs(cur_col - goal_col)\n",
        "            if self.goal_state[i] != self.current_state[i]: #high pentalty for a wrong tile\n",
        "                h_score += 3\n",
        "        return h_score\n",
        "    \n",
        "    def get_children(self):\n",
        "        children = []\n",
        "        for i in range(0, 4):\n",
        "            if i == 0 and self.prev_direction == 'down':\n",
        "                continue\n",
        "            elif i == 1 and self.prev_direction == 'up':\n",
        "                continue\n",
        "            elif i == 2 and self.prev_direction == 'right':\n",
        "                continue\n",
        "            elif i == 3 and self.prev_direction == 'left':\n",
        "                continue\n",
        "            state_after_move = self.puzzle.get_state_after_move(self.current_state, self.direction_list[i])\n",
        "            if state_after_move != None:\n",
        "                temp_puzzle = copy.deepcopy(self.puzzle)\n",
        "                temp_puzzle.move(self.direction_list[i])\n",
        "                child_node = Node(temp_puzzle, self, self.direction_list[i])\n",
        "                children.append(child_node)\n",
        "        return children\n",
        "                \n",
        "\n",
        "def solve(p):\n",
        "    '''Solve the given 8-puzzle and return a list of moves.\n",
        "\n",
        "    Args:\n",
        "      puzzle (EightPuzzle): an EightPuzzle object.\n",
        "\n",
        "    Returns:\n",
        "      list: a list containing each move direction, for example:\n",
        "            ['up', 'down', 'left', 'left', ...]\n",
        "    '''\n",
        "\n",
        "    # YOUR CODE HERE\n",
        "    ans = []\n",
        "    start = Node(p, None, None)\n",
        "        \n",
        "    ans = Astar(start)\n",
        "    return ans\n",
        "\n",
        "def Astar(start):\n",
        "    closed_ = []\n",
        "    open_ = []\n",
        "    open_.append(start)\n",
        "    \n",
        "    solution = []\n",
        "    \n",
        "    start.h_score = start.h()\n",
        "    start.f_score = start.h_score + start.g_score\n",
        "    \n",
        "    while(open_!=None):\n",
        "        min_f_node, min_f_node_idx = min_f(open_)\n",
        "        # using map() & all() to check if both the lists are exactly equal\n",
        "        result = all(map(lambda x, y: x == y, min_f_node.current_state, min_f_node.goal_state))\n",
        "        if result:\n",
        "            while(min_f_node.prev_direction != None):\n",
        "                solution.insert(0, min_f_node.prev_direction)\n",
        "                min_f_node = min_f_node.parent_state\n",
        "            return solution\n",
        "        open_.pop(min_f_node_idx)\n",
        "        closed_.append(min_f_node)\n",
        "        children = min_f_node.get_children()\n",
        "        for child in children:\n",
        "            if child in closed_:\n",
        "                continue\n",
        "            tentative_g_score = min_f_node.g_score + 1\n",
        "            if child not in open_:\n",
        "                tentative_is_better = True\n",
        "            elif tentative_g_score < child.g_score:\n",
        "                tentative_is_better = True\n",
        "            else:\n",
        "                tentative_is_better = False\n",
        "            \n",
        "            if tentative_is_better == True:\n",
        "                child.g_score = tentative_g_score\n",
        "                child.h_score = child.h()\n",
        "                child.f_score = child.g_score + child.h_score\n",
        "                open_.append(child)\n",
        "        \n",
        "def min_f(searched_list):\n",
        "    import sys\n",
        "    min_f_score = sys.maxsize\n",
        "    idx = 0\n",
        "    for i in range(len(searched_list)):\n",
        "        if(searched_list[i].f_score < min_f_score):\n",
        "            min_f_score = searched_list[i].f_score\n",
        "            idx = i\n",
        "    return searched_list[idx], idx"
      ],
      "execution_count": 67,
      "outputs": []
    },
    {
      "cell_type": "markdown",
      "metadata": {
        "id": "MPBYw09wWPSL"
      },
      "source": [
        "## 4. Test your algorithm"
      ]
    },
    {
      "cell_type": "code",
      "metadata": {
        "id": "567OKKy0psOR",
        "colab": {
          "base_uri": "https://localhost:8080/"
        },
        "outputId": "4e71066e-0f82-47c5-b90e-e99408188bcd"
      },
      "source": [
        "# NOTE: PLEASE KEEP THIS CELL NOT MODIFIED!\n",
        "\n",
        "results = test(solve, seed=123, n=10)"
      ],
      "execution_count": 68,
      "outputs": [
        {
          "output_type": "stream",
          "text": [
            "Running tests with seed: 123\n",
            "Test | seed: 55260453 | puzzle: (8, 6, 2, 5, 7, 0, 3, 1, 4) | elapsed: 4.4841s | solved\n",
            "Test | seed: 85291046 | puzzle: (2, 3, 4, 7, 0, 6, 1, 5, 8) | elapsed: 0.1009s | solved\n",
            "Test | seed: 54801393 | puzzle: (8, 2, 1, 3, 7, 6, 5, 4, 0) | elapsed: 3.1101s | solved\n",
            "Test | seed: 42905268 | puzzle: (4, 2, 1, 6, 5, 8, 7, 0, 3) | elapsed: 0.3963s | solved\n",
            "Test | seed: 31981756 | puzzle: (6, 2, 4, 3, 5, 8, 1, 0, 7) | elapsed: 0.9695s | solved\n",
            "Test | seed: 10224217 | puzzle: (5, 3, 4, 0, 8, 6, 2, 7, 1) | elapsed: 1.0915s | solved\n",
            "Test | seed: 68555945 | puzzle: (2, 4, 0, 6, 8, 3, 1, 7, 5) | elapsed: 0.0153s | solved\n",
            "Test | seed: 21759284 | puzzle: (3, 5, 4, 6, 1, 7, 2, 8, 0) | elapsed: 0.6312s | solved\n",
            "Test | seed: 90208442 | puzzle: (8, 7, 6, 3, 4, 0, 2, 5, 1) | elapsed: 0.8677s | solved\n",
            "Test | seed: 60679913 | puzzle: (6, 3, 2, 7, 4, 5, 8, 1, 0) | elapsed: 3.4509s | solved\n",
            "===> Solved: 10/10\n",
            "===> Average elapsed time: 1.5117s\n"
          ],
          "name": "stdout"
        }
      ]
    },
    {
      "cell_type": "markdown",
      "metadata": {
        "id": "zIHyo9QW7S7o"
      },
      "source": [
        "## 5. Submitting your assignment\n",
        "\n",
        "\n",
        "1. You have to save 2 files:\n",
        "  \n",
        "  - Click \"File\" > \"Download .ipynb\" to download `XXXXXXX_1.ipynb`\n",
        "  - Click \"File\" > \"Download .py\" to download `XXXXXXX_1.py`\n",
        "  \n",
        "  where `XXXXXXX` is your student ID.  \n",
        "\n",
        "2. Compress these 2 files into a `.zip` file named `XXXXXXX_1.zip`.\n",
        "\n",
        "3. Upload the zip file to E3.\n",
        "\n",
        "> **NOTE: You should click \"Runtime\" > \"Restart and run all\" before submitting to E3 to check if your program is able to run without any exception.**"
      ]
    }
  ]
}